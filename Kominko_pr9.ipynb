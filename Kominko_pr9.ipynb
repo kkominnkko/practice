{
  "nbformat": 4,
  "nbformat_minor": 0,
  "metadata": {
    "colab": {
      "name": "Practice_7_KM-01_.ipynb",
      "provenance": [],
      "collapsed_sections": []
    },
    "kernelspec": {
      "name": "python3",
      "display_name": "Python 3.6.8 64-bit",
      "metadata": {
        "interpreter": {
          "hash": "05ece30799c2dcdac4c13b3af20453da19de8df0d9a1de52cff7e0b6e1e82bdd"
        }
      }
    }
  },
  "cells": [
    {
      "cell_type": "markdown",
      "metadata": {
        "id": "FMqboNwO4rVs"
      },
      "source": [
        "# **Курс \"Програмування на мові Python\"**\n",
        "\n",
        "##### Викладачі:\n",
        "##### Борисенко Павло Борисович\n",
        "##### Щьоголєв Максим Олегович\n"
      ]
    },
    {
      "cell_type": "markdown",
      "metadata": {
        "id": "A2T6MigL5Z06"
      },
      "source": [
        "## **Практичне зайняття №9**\n",
        "\n",
        "### Тема: \"Лямбда-функції. Функції вищих порядків\""
      ]
    },
    {
      "cell_type": "markdown",
      "metadata": {
        "id": "cfCdgK2zXm7e"
      },
      "source": [
        "### **Завдання 1 (1 бал)**\n",
        "\n",
        "Продавець роздрібного товару влаштовує розпродаж. Для всіх товарів знижка однакова - 60%. Щоб вивісити нові цінники, продавець хоче скласти таблицю, в якій для кожного товару буде підрахована його нова вартість та сума знижки.\n",
        "\n",
        "Написати програму, яка буде генерувати таку таблицю. Вартість одиниць товарів до розпродажу подано у списку products_list. \n",
        "\n",
        "1. Для підрахунку невідомих значень повинні використовуватись вбудовані функції вищих порядків.\n",
        "\n",
        "2. Вартість з урахуванням знижки та суми знижок для кожного товару повинні зберігатись у двох окремих списках. Порядок товарів у нових списках повинен бути такий самий, як і в списку products_list.\n",
        "\n",
        "3. Кожне підраховане числове значення має бути округлене до сотих.\n",
        "\n",
        "4. Дані повинні виводитись у вигляді:\n",
        "\n",
        "**Discount table:**\n",
        "\n",
        "**29.25 11.7 17.55**\n",
        "\n",
        "**48.99 19.6 29.39**\n",
        "\n",
        "**...**\n",
        "\n",
        "\n",
        "products_list = [[29.25, 48.99, 99.98, 124.65, 214.30, 543.90, 799.85]]\n"
      ]
    },
    {
      "cell_type": "code",
      "metadata": {
        "id": "ifNX2M7LXm7f"
      },
      "source": [
        "products_list = [29.25, 48.99, 99.98, 124.65, 214.30, 543.90, 799.85]\n",
        "actual_price = list(map(lambda x: round(x*0.4, 2), products_list))\n",
        "sale = list(map(lambda x: round(x*0.6, 2), products_list))\n",
        "print(\"Discount table: \\n\")\n",
        "for i in range (0, len(products_list)):\n",
        "    print(products_list[i], actual_price[i], sale[i])"
      ],
      "execution_count": 5,
      "outputs": [
        {
          "output_type": "stream",
          "name": "stdout",
          "text": [
            "Discount table: \n\n29.25 11.7 17.55\n48.99 19.6 29.39\n99.98 39.99 59.99\n124.65 49.86 74.79\n214.3 85.72 128.58\n543.9 217.56 326.34\n799.85 319.94 479.91\n"
          ]
        }
      ]
    },
    {
      "source": [
        "### **Завдання 2 (2 бали)**\n",
        "\n",
        "Зазвичай рік має 365 днів. Однак у високосні роки додається ще один день - 29 лютого. Правила визначення високосного року такі:\n",
        "\n",
        "- Будь-який рік, що ділиться на 400 - високосний.\n",
        "\n",
        "- З тих років, що залишились, будь-який рік, що ділиться на 100 - **не** високосний.\n",
        "\n",
        "- З тих років, що залишились, будь-який рік, що ділиться на 4 - високосний.\n",
        "\n",
        "- Усі інші роки, що залишились - **не** високосні.\n",
        "\n",
        "1) Створіть функцію, в якій за допомогою вбудованих функцій вищих порядків будуть визначатися високосні роки серед перелічених років у списку years. Створена функція має повертати список високосних років.\n",
        "\n",
        "2) Створіть функцію вищих порядків, яка прийматиме на вхід попередню функцію та визначатиме кількість днів у місяці. Також функція повинна приймати на вхід ще 2 параметри: ціле число від 1 до 12 (місяць) та рік, як ціле чотирицифрове число. Ці значення корисувач має вводити з клавіатури. Перевірку введених даних слід виконувати поза межами функцій."
      ],
      "cell_type": "markdown",
      "metadata": {}
    },
    {
      "cell_type": "code",
      "execution_count": 1,
      "metadata": {},
      "outputs": [
        {
          "output_type": "stream",
          "name": "stdout",
          "text": [
            "У заданому вами місяці стільки днів:\n31\n"
          ]
        }
      ],
      "source": [
        "import numpy as np\n",
        "while True:\n",
        "    try:\n",
        "        years = np.arange(1900, 2020+1, 1)\n",
        "        years = list(years)\n",
        "        high_years = []\n",
        "\n",
        "\n",
        "        def finder():\n",
        "\n",
        "            a1 = list(filter(lambda x: x%400 == 0, years))\n",
        "\n",
        "            for i in range(0, len(a1)) :\n",
        "                years.remove(a1[i])\n",
        "\n",
        "            a2 = list(filter(lambda x: x%100 == 0, years))\n",
        "\n",
        "            for i in range(0, len(a2)) :\n",
        "                years.remove(a2[i])\n",
        "\n",
        "            a3 = list(filter(lambda x: x%4 == 0, years))\n",
        "            \n",
        "            for i in range(0, len(a3)) :\n",
        "                years.remove(a3[i])\n",
        "            high_years.extend(a1)\n",
        "            high_years.extend(a3)\n",
        "            high_years.sort()\n",
        "            return high_years\n",
        "\n",
        "        n = int(input(\"Введіть номер місяця, довжину якого ви хочете дізнатися:\"))\n",
        "        n4 = int(input(\"Введіть рік, з якого бажаєте взяти місяць:\"))\n",
        "        \n",
        "        if n > 12 or n <= 0:\n",
        "            raise Warning\n",
        "            \n",
        "        if n4 > 2020:\n",
        "            raise TypeError\n",
        "        elif n4 < 1900:\n",
        "            raise TypeError\n",
        "\n",
        "\n",
        "        def discover(func, a, b):\n",
        "            if b in func:\n",
        "                if a == 2:\n",
        "                    c = 29\n",
        "                elif a == 4 or a == 6 or a == 9 or a == 11:\n",
        "                    c = 30\n",
        "                else:\n",
        "                    c = 31\n",
        "            else:\n",
        "                if a == 2:\n",
        "                    c = 28\n",
        "                elif a == 4 or a == 6 or a == 9 or a == 11:\n",
        "                    c = 30\n",
        "                else:\n",
        "                    c = 31\n",
        "            \n",
        "            print(\"У заданому вами місяці стільки днів:\")\n",
        "            return c\n",
        "            \n",
        "            \n",
        "    \n",
        "        print(discover(finder(), n, n4))\n",
        "        break\n",
        "        \n",
        "    except TypeError:\n",
        "        print(\"Некоректний рік\")\n",
        "    except Warning:\n",
        "        print(\"Номер місяця некоректний\")\n",
        "    except ValueError:\n",
        "        print(\"Уведене значення некоректне\")\n"
      ]
    },
    {
      "cell_type": "code",
      "execution_count": null,
      "metadata": {},
      "outputs": [],
      "source": []
    }
  ]
}