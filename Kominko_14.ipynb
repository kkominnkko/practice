{
  "nbformat": 4,
  "nbformat_minor": 0,
  "metadata": {
    "colab": {
      "name": "Practice_14_KM_01.ipynb",
      "provenance": [],
      "collapsed_sections": []
    },
    "kernelspec": {
      "name": "python3",
      "display_name": "Python 3.6.8 64-bit",
      "metadata": {
        "interpreter": {
          "hash": "05ece30799c2dcdac4c13b3af20453da19de8df0d9a1de52cff7e0b6e1e82bdd"
        }
      }
    }
  },
  "cells": [
    {
      "cell_type": "markdown",
      "metadata": {
        "id": "FMqboNwO4rVs"
      },
      "source": [
        "# **Курс \"Програмування на мові Python\"**\n",
        "\n",
        "##### Викладачі:\n",
        "##### Борисенко Павло Борисович\n",
        "##### Щьоголєв Максим Олегович\n"
      ]
    },
    {
      "cell_type": "markdown",
      "metadata": {
        "id": "A2T6MigL5Z06"
      },
      "source": [
        "## **Практичне зайняття №14**\n",
        "\n",
        "### Тема: \"Робота з файлами\""
      ]
    },
    {
      "cell_type": "markdown",
      "metadata": {
        "id": "cfCdgK2zXm7e"
      },
      "source": [
        "### **Завдання 1 (1,5 бали)**\n",
        "\n",
        "У 1939 році друком вийшов роман американського письменика Ернеста Вінсента Райта \"Ґедсбі\". Особливу увагу публіки він здобув через те, що письменник жодного разу не використав у романі літеру \"e\" (роман складається з більше ніж 50,000 слів), яка є найбільш вживаною літерою в англійській мові.\n",
        "\n",
        "Порахуйте кількість входжень кожної літери у текст роману. Виведіть список літер англійського алфавіту, а також інформацію про те, скільки відсотків від усіх літер тексту складає кожна літера алфавіту.\n",
        "\n",
        "Зауваження:\n",
        "\n",
        "1. Програма має ігнорувати будь-які символи, окрім літер.\n",
        "\n",
        "2. Переведіть усі літери у верхній або у нижній регістр.\n",
        "\n",
        "3. Під час виведення відсортуйте літери у порядку зменшення їхнього відсотка. Літера \"e\" має стояти на останньому місці у цьому списку.\n",
        "\n",
        "4. Виведіть перші 5 та останні 5 літер відсортованого списку разом з відсотковими значеннями, що їм відповідають."
      ]
    },
    {
      "cell_type": "code",
      "metadata": {
        "tags": [],
        "id": "u4-fHJJ6U462"
      },
      "source": [
        "import re\n",
        "import string\n",
        "\n",
        "with open('gadsby.txt', 'r') as f:\n",
        "    l = f.readlines()\n",
        "    lines = [line.upper() for line in l]\n",
        "    alpha = string.ascii_uppercase\n",
        "    letters = []\n",
        "    for i in alpha:\n",
        "        q = len(re.findall(i, str(lines)))\n",
        "        letters.append(q)\n",
        "    s = sum(letters)\n",
        "    percentage = []\n",
        "    for i in range(len(letters)):\n",
        "        p = round((int(letters[i])/s)*100, 2)\n",
        "        percentage.append(p)\n",
        "    d = dict(zip(percentage, alpha))\n",
        "    keys = list(d.keys())\n",
        "    keys.sort(reverse=True)\n",
        "    list1 = []\n",
        "    print(\"Список літер алфавіту:\")\n",
        "    for i in keys:\n",
        "        k = str(str(d[i]) + ':' + str(i) + '%')\n",
        "        print(k)\n",
        "        list1.append(k)\n",
        "    print(\"П'ять перших літер:\")\n",
        "    print('\\n'.join(list1[0:5]))\n",
        "    print(\"П'ять останніх літер:\")\n",
        "    print('\\n'.join(list1[-5:]))\n",
        "\n",
        "\n",
        "\n",
        "\n"
      ],
      "execution_count": 6,
      "outputs": [
        {
          "output_type": "stream",
          "name": "stdout",
          "text": [
            "Список літер алфавіту:\nA:10.89%\nO:10.37%\nI:8.79%\nN:8.56%\nT:8.53%\nS:6.96%\nL:5.29%\nH:4.92%\nR:4.79%\nU:4.13%\nD:4.11%\nG:3.57%\nY:3.17%\nW:2.79%\nC:2.67%\nF:2.15%\nB:2.13%\nM:2.09%\nP:1.91%\nK:1.17%\nV:0.34%\nE:0.23%\nJ:0.22%\nZ:0.11%\nX:0.08%\nQ:0.05%\nП'ять перших літер:\nA:10.89%\nO:10.37%\nI:8.79%\nN:8.56%\nT:8.53%\nП'ять останніх літер:\nE:0.23%\nJ:0.22%\nZ:0.11%\nX:0.08%\nQ:0.05%\n"
          ]
        }
      ]
    },
    {
      "cell_type": "markdown",
      "metadata": {
        "id": "A34oz70eU463"
      },
      "source": [
        "### **Завдання 2 (1,5 бали)**\n",
        "\n",
        "Створіть CSV-файл, що буде містити від 5 до 10 пісень (творів) вашого улюбленого музиканта. Назва файлу - ім'я музиканта (композитора) або назва гурту.\n",
        "\n",
        "1. Обов'язково додайте до файлу рядок з назвами двох колонок (Song, Year) або (Composition, Year).\n",
        "\n",
        "2. Після запису файлу роздрукуйте назву файлу та усі наявні у файлі рядки (включно із заголовками).\n",
        "\n",
        "3. Для запису та зчитування рядків скористайтесь функціями csv.DictWriter() та csv.DictReader()."
      ]
    },
    {
      "cell_type": "code",
      "metadata": {
        "id": "MEJIrG1GU463"
      },
      "source": [
        "import csv\n",
        "\n",
        "with open('Mitski.csv', 'w', newline='') as csvfile:\n",
        "    names = ['Song', 'Year']\n",
        "    writer = csv.DictWriter(csvfile, fieldnames=names)\n",
        "    writer.writeheader()\n",
        "    writer.writerow({'Song': 'Class of 2013',\n",
        "                     'Year': '2013'})\n",
        "    writer.writerow({'Song': 'Nobody',\n",
        "                     'Year': '2018'})\n",
        "    writer.writerow({'Song': 'Washing Machine Heart',\n",
        "                     'Year': '2018'})\n",
        "    writer.writerow({'Song': 'Srawberry Blonde',\n",
        "                     'Year': '2013'})\n",
        "    writer.writerow({'Song': 'Me and My Husband',\n",
        "                     'Year': '2018'})\n",
        "    writer.writerow({'Song': 'Remember My Name',\n",
        "                     'Year': '2018'})\n",
        "with open('Mitski.csv', newline='') as csvfile:\n",
        "    reader = csv.DictReader(csvfile)\n",
        "    for heading in reader.fieldnames:\n",
        "        print(heading, end=' ')\n",
        "    print(\"\\n\")\n",
        "    for row in reader:\n",
        "        print(row['Song'], row['Year'])"
      ],
      "execution_count": 5,
      "outputs": [
        {
          "output_type": "stream",
          "name": "stdout",
          "text": [
            "Song Year \n\nClass of 2013 2013\nNobody 2018\nWashing Machine Heart 2018\nSrawberry Blonde 2013\nMe and My Husband 2018\nRemember My Name 2018\n"
          ]
        }
      ]
    },
    {
      "cell_type": "markdown",
      "metadata": {
        "id": "Jb-eSBsWU464"
      },
      "source": [
        "### **Завдання 3 (бонусне, 1 бал)**\n",
        "\n",
        "COCO Dataset - набір фотографій та анотацій до них. Його дуже часто використовують для тренування класифікаторів, призначених для розпізнавання об'єктів та визначення ключових точок на зображеннях.\n",
        "\n",
        "Завантажте файли з описом фотографій COCO Dataset за посиланням: http://images.cocodataset.org/annotations/image_info_test2017.zip\n",
        "\n",
        "1. Відкрийте файл image_info_test-dev2017.json. Інформація про фотографії з бази COCO міститься у полі \"images\". Інформація про категорії, на які розділені всі фотографії, міститься у полі \"categories\".\n",
        "\n",
        "2. Визначте кількість фотографій, інформацію про які можна знайти у цьому файлі (кількість елементів, що відповідають ключу \"images\").\n",
        "\n",
        "3. Визначте кількість наявних категорій (кількість елементів, що відповідають ключу \"categories\").\n",
        "\n",
        "4. Виведіть посилання на фотографію 000000000001.jpg (\"coco_url\"), висоту цієї фотографії (\"height\"), ширину (\"width\") та її ідентифікатор (\"id\").\n",
        "\n",
        "5. Опис структури JSON-файлу для набору фотографій COCO можна знайти за посиланням: https://cocodataset.org/#format-data\n",
        "\n",
        "6. Щоб перевірити правильність результатів, у VS Code встановіть розширення JSON та відкрийте файл image_info_test-dev2017.json. Розширення автоматично визначає кількість елементів у кожному полі."
      ]
    },
    {
      "cell_type": "code",
      "metadata": {
        "id": "74C6WKB_U464"
      },
      "source": [],
      "execution_count": null,
      "outputs": []
    }
  ]
}